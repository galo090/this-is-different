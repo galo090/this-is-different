{
 "cells": [
  {
   "cell_type": "code",
   "execution_count": 14,
   "id": "45a00a09",
   "metadata": {},
   "outputs": [
    {
     "name": "stdout",
     "output_type": "stream",
     "text": [
      "[1, 2, 3, 4, 5, 1, 2, 3, 4, 5, 6, 7, 8, 8]\n"
     ]
    }
   ],
   "source": [
    "# create a list of numbers and find the sum of all elements\n",
    "x = [1,2,3,4,5]\n",
    "y = [1,2,3,4,5,6,7,8,8,]\n",
    "print(x+y)\n",
    "\n"
   ]
  },
  {
   "cell_type": "code",
   "execution_count": null,
   "id": "340aa1dd",
   "metadata": {},
   "outputs": [
    {
     "name": "stdout",
     "output_type": "stream",
     "text": [
      "{1, 2, 3, 4, 5, 6, 7, 9}\n"
     ]
    }
   ],
   "source": [
    "# remove duplicate from a set and make a unique python list\n",
    "x = {1,2,3,4,5,6,6,7,9}\n",
    "y = {1,2,3,4,5,6,5,6,4,3,3,3}\n",
    "print(x|y)\n",
    "\n",
    "\n"
   ]
  },
  {
   "cell_type": "code",
   "execution_count": 19,
   "id": "bd4c320c",
   "metadata": {},
   "outputs": [],
   "source": [
    "x = [1,2,3,4,5,6,7,7,8,]\n"
   ]
  }
 ],
 "metadata": {
  "kernelspec": {
   "display_name": "Python 3",
   "language": "python",
   "name": "python3"
  },
  "language_info": {
   "codemirror_mode": {
    "name": "ipython",
    "version": 3
   },
   "file_extension": ".py",
   "mimetype": "text/x-python",
   "name": "python",
   "nbconvert_exporter": "python",
   "pygments_lexer": "ipython3",
   "version": "3.13.3"
  }
 },
 "nbformat": 4,
 "nbformat_minor": 5
}

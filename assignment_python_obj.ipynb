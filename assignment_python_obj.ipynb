{
 "cells": [
  {
   "cell_type": "markdown",
   "id": "347fe0f3",
   "metadata": {},
   "source": [
    "#"
   ]
  },
  {
   "cell_type": "markdown",
   "id": "ddc7bdff",
   "metadata": {},
   "source": [
    "assignment\n",
    "\n",
    "\n",
    "Create a program that reads the length and width of a farmer’s field from the user in metres. calcalculate the area.\n",
    "\n"
   ]
  },
  {
   "cell_type": "code",
   "execution_count": 19,
   "id": "13b16a0d",
   "metadata": {},
   "outputs": [
    {
     "name": "stdout",
     "output_type": "stream",
     "text": [
      "134.09\n"
     ]
    }
   ],
   "source": [
    "length = 0\n",
    "width = 0\n",
    "length = float(input(\"farmer length: \"))\n",
    "width = float(input(\"farmer width: \"))\n",
    "print(length*width)"
   ]
  }
 ],
 "metadata": {
  "kernelspec": {
   "display_name": "Python 3",
   "language": "python",
   "name": "python3"
  },
  "language_info": {
   "codemirror_mode": {
    "name": "ipython",
    "version": 3
   },
   "file_extension": ".py",
   "mimetype": "text/x-python",
   "name": "python",
   "nbconvert_exporter": "python",
   "pygments_lexer": "ipython3",
   "version": "3.13.3"
  }
 },
 "nbformat": 4,
 "nbformat_minor": 5
}

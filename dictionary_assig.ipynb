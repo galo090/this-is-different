{
 "cells": [
  {
   "cell_type": "markdown",
   "id": "0a5e1b88",
   "metadata": {},
   "source": [
    "#### Given:\n",
    "#### l1 = [3, 6, 9, 12, 15, 18, 21]\n",
    "##### Exercise 1: Remove and add item in a list.\n",
    "\n",
    "##### Exercise 2: Slice list into 3 equal chunks and reverse each chunk.\n",
    "\n",
    "##### Exercise 3: Count the occurrence of each element from a list.\n",
    "\n",
    "##### Exercise 4: Extract Unique Dictionary Values to a List.\n",
    "\n",
    "#### Exercise 5: remove duplicates from a list."
   ]
  },
  {
   "cell_type": "code",
   "execution_count": null,
   "id": "3baf2b00",
   "metadata": {},
   "outputs": [
    {
     "data": {
      "text/plain": [
       "[3, 6, 9, 12, 15, 21, 30]"
      ]
     },
     "execution_count": 12,
     "metadata": {},
     "output_type": "execute_result"
    }
   ],
   "source": [
    "\n",
    "# Remove and add item in a list\n",
    "l1 = [3, 6, 9, 12, 15, 18, 21]\n",
    "#l1.append(30)\n",
    "#l1\n",
    "l1.remove(18)\n",
    "l1\n",
    "\n"
   ]
  },
  {
   "cell_type": "code",
   "execution_count": null,
   "id": "dae991bd",
   "metadata": {},
   "outputs": [
    {
     "name": "stdout",
     "output_type": "stream",
     "text": [
      "[3, 6, 9]\n",
      "[36, 21, 12, 3]\n",
      "[12, 15, 18]\n",
      "[34, 35, 36]\n"
     ]
    }
   ],
   "source": [
    " \n",
    "# Slice list into 3 equal chunks and reverse each chunk.\n",
    "l1 = [3, 6, 9, 12, 15, 18, 21,34,35,36]\n",
    "print(l1[:3])\n",
    "print(l1[3:6])\n",
    "print(l1[-3:])"
   ]
  },
  {
   "cell_type": "code",
   "execution_count": 18,
   "id": "bef72bcf",
   "metadata": {},
   "outputs": [
    {
     "name": "stdout",
     "output_type": "stream",
     "text": [
      "1\n",
      "1\n",
      "1\n",
      "1\n",
      "1\n",
      "1\n",
      "1\n"
     ]
    }
   ],
   "source": [
    "# Count the occurrence of each element from a list.\n",
    "l1 = [3, 6, 9, 12, 15, 18, 21]\n",
    "print(l1.count(3))\n",
    "print(l1.count(6))\n",
    "print(l1.count(9))\n",
    "print(l1.count(12))\n",
    "print(l1.count(15))\n",
    "print(l1.count(18))\n",
    "print(l1.count(21))\n",
    "\n"
   ]
  },
  {
   "cell_type": "code",
   "execution_count": 19,
   "id": "094ddea7",
   "metadata": {},
   "outputs": [
    {
     "name": "stdout",
     "output_type": "stream",
     "text": [
      "{'meat': 30.3, 'chicken': 12, 'beef': 14.2}\n"
     ]
    },
    {
     "data": {
      "text/plain": [
       "dict_values([30.3, 12, 14.2])"
      ]
     },
     "execution_count": 19,
     "metadata": {},
     "output_type": "execute_result"
    }
   ],
   "source": [
    "# Extract Unique Dictionary Values to a List.\n",
    "x = {'meat':30.3,'chicken':12,'beef':14.2 }\n",
    "print(x)\n",
    "x.values()\n",
    "\n",
    "\n"
   ]
  },
  {
   "cell_type": "code",
   "execution_count": 22,
   "id": "2906ae20",
   "metadata": {},
   "outputs": [
    {
     "name": "stdout",
     "output_type": "stream",
     "text": [
      "[1, 2, 3, 4, 5]\n"
     ]
    }
   ],
   "source": [
    "# remove duplicates from a list.\n",
    "x = [1,1,2,2,3,3,4,4,5,5]\n",
    "n = list(set(x))\n",
    "print(n)"
   ]
  },
  {
   "cell_type": "code",
   "execution_count": 23,
   "id": "06b86c0a",
   "metadata": {},
   "outputs": [
    {
     "name": "stdout",
     "output_type": "stream",
     "text": [
      "{1, 2, 3, 4, 5}\n"
     ]
    }
   ],
   "source": [
    "x = [1,1,2,2,3,3,4,4,5,5]\n",
    "print(set(x))"
   ]
  }
 ],
 "metadata": {
  "kernelspec": {
   "display_name": "Python 3",
   "language": "python",
   "name": "python3"
  },
  "language_info": {
   "codemirror_mode": {
    "name": "ipython",
    "version": 3
   },
   "file_extension": ".py",
   "mimetype": "text/x-python",
   "name": "python",
   "nbconvert_exporter": "python",
   "pygments_lexer": "ipython3",
   "version": "3.13.3"
  }
 },
 "nbformat": 4,
 "nbformat_minor": 5
}

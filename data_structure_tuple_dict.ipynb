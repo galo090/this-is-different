{
 "cells": [
  {
   "cell_type": "markdown",
   "id": "c8fa9f2c",
   "metadata": {},
   "source": [
    "### Tuple"
   ]
  },
  {
   "cell_type": "markdown",
   "id": "b7e1e6ac",
   "metadata": {},
   "source": [
    "#### Features of tuple\n",
    "#### 1) Tuples are immutable(values cannot be changed).\n",
    "#### 2) You cannot extend, append, or sort tuple "
   ]
  },
  {
   "cell_type": "code",
   "execution_count": 45,
   "id": "864852cb",
   "metadata": {},
   "outputs": [],
   "source": [
    "# define a tuple\n",
    "x = (2,3)"
   ]
  },
  {
   "cell_type": "code",
   "execution_count": 46,
   "id": "8e78f2d3",
   "metadata": {},
   "outputs": [
    {
     "data": {
      "text/plain": [
       "tuple"
      ]
     },
     "execution_count": 46,
     "metadata": {},
     "output_type": "execute_result"
    }
   ],
   "source": [
    "# the datatype of the variable x\n",
    "type(x)"
   ]
  },
  {
   "cell_type": "code",
   "execution_count": 47,
   "id": "356ea264",
   "metadata": {},
   "outputs": [
    {
     "data": {
      "text/plain": [
       "2"
      ]
     },
     "execution_count": 47,
     "metadata": {},
     "output_type": "execute_result"
    }
   ],
   "source": [
    "# check the length of variable x\n",
    "len(x)"
   ]
  },
  {
   "cell_type": "code",
   "execution_count": 48,
   "id": "81ddf9c6",
   "metadata": {},
   "outputs": [
    {
     "data": {
      "text/plain": [
       "2"
      ]
     },
     "execution_count": 48,
     "metadata": {},
     "output_type": "execute_result"
    }
   ],
   "source": [
    "# accessing tuple\n",
    "x[0] # first element"
   ]
  },
  {
   "cell_type": "code",
   "execution_count": 49,
   "id": "9f8c29ef",
   "metadata": {},
   "outputs": [
    {
     "data": {
      "text/plain": [
       "3"
      ]
     },
     "execution_count": 49,
     "metadata": {},
     "output_type": "execute_result"
    }
   ],
   "source": [
    "# accessing tuple\n",
    "x[1] # second element"
   ]
  },
  {
   "cell_type": "code",
   "execution_count": 50,
   "id": "04323c9b",
   "metadata": {},
   "outputs": [
    {
     "data": {
      "text/plain": [
       "((4, 3), (4, 4), (5, 6), (8, 8), (1, 2))"
      ]
     },
     "execution_count": 50,
     "metadata": {},
     "output_type": "execute_result"
    }
   ],
   "source": [
    "# tuple in a tuple\n",
    "y = ((4,3), (4,4), (5,6), (8,8), (1,2))\n",
    "y"
   ]
  },
  {
   "cell_type": "code",
   "execution_count": 51,
   "id": "89d6de4a",
   "metadata": {},
   "outputs": [
    {
     "data": {
      "text/plain": [
       "tuple"
      ]
     },
     "execution_count": 51,
     "metadata": {},
     "output_type": "execute_result"
    }
   ],
   "source": [
    "type(y)"
   ]
  },
  {
   "cell_type": "code",
   "execution_count": 52,
   "id": "7a84e5fd",
   "metadata": {},
   "outputs": [
    {
     "data": {
      "text/plain": [
       "(4, 3)"
      ]
     },
     "execution_count": 52,
     "metadata": {},
     "output_type": "execute_result"
    }
   ],
   "source": [
    "y[0]"
   ]
  },
  {
   "cell_type": "code",
   "execution_count": 53,
   "id": "c03cc22f",
   "metadata": {},
   "outputs": [
    {
     "data": {
      "text/plain": [
       "4"
      ]
     },
     "execution_count": 53,
     "metadata": {},
     "output_type": "execute_result"
    }
   ],
   "source": [
    "y[0][0]"
   ]
  },
  {
   "cell_type": "code",
   "execution_count": 54,
   "id": "1b67db88",
   "metadata": {},
   "outputs": [
    {
     "data": {
      "text/plain": [
       "3"
      ]
     },
     "execution_count": 54,
     "metadata": {},
     "output_type": "execute_result"
    }
   ],
   "source": [
    "y[0][1]"
   ]
  },
  {
   "cell_type": "code",
   "execution_count": 55,
   "id": "8dba7030",
   "metadata": {},
   "outputs": [
    {
     "data": {
      "text/plain": [
       "(1, 2)"
      ]
     },
     "execution_count": 55,
     "metadata": {},
     "output_type": "execute_result"
    }
   ],
   "source": [
    "y[4]"
   ]
  },
  {
   "cell_type": "markdown",
   "id": "903c419b",
   "metadata": {},
   "source": [
    "#### Python dictionary"
   ]
  },
  {
   "cell_type": "markdown",
   "id": "d26ad90a",
   "metadata": {},
   "source": [
    "#### a dictionary is a map of key against value.\n",
    "#### they can be referred to as a database.\n",
    "#### they are mutable.\n",
    "#### they use curly brackets - {}."
   ]
  },
  {
   "cell_type": "code",
   "execution_count": 56,
   "id": "60210d00",
   "metadata": {},
   "outputs": [
    {
     "data": {
      "text/plain": [
       "{}"
      ]
     },
     "execution_count": 56,
     "metadata": {},
     "output_type": "execute_result"
    }
   ],
   "source": [
    "# an empty dictionary\n",
    "x = {}\n",
    "x"
   ]
  },
  {
   "cell_type": "code",
   "execution_count": 57,
   "id": "47b081aa",
   "metadata": {},
   "outputs": [
    {
     "data": {
      "text/plain": [
       "{'age': 56}"
      ]
     },
     "execution_count": 57,
     "metadata": {},
     "output_type": "execute_result"
    }
   ],
   "source": [
    "# a simple dictionary\n",
    "x = {\"age\": 56}\n",
    "x"
   ]
  },
  {
   "cell_type": "code",
   "execution_count": 58,
   "id": "44c16432",
   "metadata": {},
   "outputs": [
    {
     "data": {
      "text/plain": [
       "56"
      ]
     },
     "execution_count": 58,
     "metadata": {},
     "output_type": "execute_result"
    }
   ],
   "source": [
    "# accessing values\n",
    "x[\"age\"]"
   ]
  },
  {
   "cell_type": "code",
   "execution_count": 59,
   "id": "95168cf3",
   "metadata": {},
   "outputs": [
    {
     "data": {
      "text/plain": [
       "[56, 57, 58]"
      ]
     },
     "execution_count": 59,
     "metadata": {},
     "output_type": "execute_result"
    }
   ],
   "source": [
    "x = {\"age\":[56,57, 58]}\n",
    "x[\"age\"]"
   ]
  },
  {
   "cell_type": "code",
   "execution_count": 60,
   "id": "1e76fac5",
   "metadata": {},
   "outputs": [
    {
     "ename": "SyntaxError",
     "evalue": "':' expected after dictionary key (2432496743.py, line 1)",
     "output_type": "error",
     "traceback": [
      "  \u001b[36mCell\u001b[39m\u001b[36m \u001b[39m\u001b[32mIn[60]\u001b[39m\u001b[32m, line 1\u001b[39m\n\u001b[31m    \u001b[39m\u001b[31mx = {\"age\":56,57,58}\u001b[39m\n                   ^\n\u001b[31mSyntaxError\u001b[39m\u001b[31m:\u001b[39m ':' expected after dictionary key\n"
     ]
    }
   ],
   "source": [
    "x = {\"age\":56,57,58}\n",
    "x[\"age\"]"
   ]
  },
  {
   "cell_type": "code",
   "execution_count": 61,
   "id": "21df7466",
   "metadata": {},
   "outputs": [
    {
     "data": {
      "text/plain": [
       "{'age': 65, 'name': 'ademola'}"
      ]
     },
     "execution_count": 61,
     "metadata": {},
     "output_type": "execute_result"
    }
   ],
   "source": [
    "x = {\"age\": 65, \"name\": \"ademola\"}\n",
    "x"
   ]
  },
  {
   "cell_type": "code",
   "execution_count": 62,
   "id": "9a634b16",
   "metadata": {},
   "outputs": [
    {
     "data": {
      "text/plain": [
       "'ademola'"
      ]
     },
     "execution_count": 62,
     "metadata": {},
     "output_type": "execute_result"
    }
   ],
   "source": [
    "x[\"name\"]"
   ]
  },
  {
   "cell_type": "code",
   "execution_count": 63,
   "id": "78c11a3c",
   "metadata": {},
   "outputs": [
    {
     "name": "stdout",
     "output_type": "stream",
     "text": [
      "65 ademola\n"
     ]
    }
   ],
   "source": [
    "print(x[\"age\"], x[\"name\"])"
   ]
  },
  {
   "cell_type": "code",
   "execution_count": 64,
   "id": "0a424e97",
   "metadata": {},
   "outputs": [
    {
     "data": {
      "text/plain": [
       "{}"
      ]
     },
     "execution_count": 64,
     "metadata": {},
     "output_type": "execute_result"
    }
   ],
   "source": [
    "# an empty dictionary\n",
    "desc_of_car = {}\n",
    "desc_of_car"
   ]
  },
  {
   "cell_type": "code",
   "execution_count": null,
   "id": "661a0f1b",
   "metadata": {},
   "outputs": [],
   "source": [
    "amount = {}\n",
    "amount \n"
   ]
  },
  {
   "cell_type": "code",
   "execution_count": null,
   "id": "21d7779f",
   "metadata": {},
   "outputs": [
    {
     "data": {
      "text/plain": [
       "{'of legs in a trouser': 5, 'of car in a year': 13, 'bookings in a year': 12}"
      ]
     },
     "execution_count": 7,
     "metadata": {},
     "output_type": "execute_result"
    }
   ],
   "source": [
    "amount[\"of legs in a trouser\"] = 5\n",
    "amount[\"of car in a year\"] = 13\n",
    "amount[\"bookings in a year\"] = 12\n",
    "amount"
   ]
  },
  {
   "cell_type": "code",
   "execution_count": null,
   "id": "e8023b6a",
   "metadata": {},
   "outputs": [
    {
     "data": {
      "text/plain": [
       "12"
      ]
     },
     "execution_count": 14,
     "metadata": {},
     "output_type": "execute_result"
    }
   ],
   "source": []
  },
  {
   "cell_type": "code",
   "execution_count": 65,
   "id": "41facd55",
   "metadata": {},
   "outputs": [],
   "source": [
    "# populate the dictionary with data\n",
    "desc_of_car[\"manufacturer\"] = \"toyota\"\n",
    "desc_of_car[\"color\"] = \"red\"\n",
    "desc_of_car[\"yr_of_make\"] = 2025"
   ]
  },
  {
   "cell_type": "code",
   "execution_count": 66,
   "id": "af8535e1",
   "metadata": {},
   "outputs": [
    {
     "data": {
      "text/plain": [
       "{'manufacturer': 'toyota', 'color': 'red', 'yr_of_make': 2025}"
      ]
     },
     "execution_count": 66,
     "metadata": {},
     "output_type": "execute_result"
    }
   ],
   "source": [
    "desc_of_car"
   ]
  },
  {
   "cell_type": "code",
   "execution_count": 67,
   "id": "96dd6e86",
   "metadata": {},
   "outputs": [
    {
     "data": {
      "text/plain": [
       "'red'"
      ]
     },
     "execution_count": 67,
     "metadata": {},
     "output_type": "execute_result"
    }
   ],
   "source": [
    "desc_of_car.get(\"color\")"
   ]
  },
  {
   "cell_type": "code",
   "execution_count": 68,
   "id": "bf2fa4a4",
   "metadata": {},
   "outputs": [
    {
     "data": {
      "text/plain": [
       "'red'"
      ]
     },
     "execution_count": 68,
     "metadata": {},
     "output_type": "execute_result"
    }
   ],
   "source": [
    "desc_of_car[\"color\"]"
   ]
  },
  {
   "cell_type": "markdown",
   "id": "9f4aa505",
   "metadata": {},
   "source": [
    "#### class task"
   ]
  },
  {
   "cell_type": "code",
   "execution_count": 69,
   "id": "89b3996c",
   "metadata": {},
   "outputs": [
    {
     "data": {
      "text/plain": [
       "{}"
      ]
     },
     "execution_count": 69,
     "metadata": {},
     "output_type": "execute_result"
    }
   ],
   "source": [
    "# create an empty dictionary of person\n",
    "# fill it with two names, age, height, and sex\n",
    "person = {}\n",
    "person"
   ]
  },
  {
   "cell_type": "code",
   "execution_count": null,
   "id": "398341ff",
   "metadata": {},
   "outputs": [],
   "source": [
    "#person[\"name\"] ='josh','ade'\n",
    "#person[\"age\"] = 12, 34\n",
    "#person['height'] = 6.4 ,6.7\n",
    "#person"
   ]
  },
  {
   "cell_type": "code",
   "execution_count": 70,
   "id": "c63a21c2",
   "metadata": {},
   "outputs": [],
   "source": [
    "person['name1']='josh'\n",
    "person['age1']= 12\n",
    "person['height1']= 6.4"
   ]
  },
  {
   "cell_type": "code",
   "execution_count": 71,
   "id": "539e6304",
   "metadata": {},
   "outputs": [],
   "source": [
    "person['name2']='ade'\n",
    "person['age2']= 34\n",
    "person['height2']=6.7"
   ]
  },
  {
   "cell_type": "code",
   "execution_count": 72,
   "id": "3d07c546",
   "metadata": {},
   "outputs": [
    {
     "data": {
      "text/plain": [
       "{'name1': 'josh',\n",
       " 'age1': 12,\n",
       " 'height1': 6.4,\n",
       " 'name2': 'ade',\n",
       " 'age2': 34,\n",
       " 'height2': 6.7}"
      ]
     },
     "execution_count": 72,
     "metadata": {},
     "output_type": "execute_result"
    }
   ],
   "source": [
    "person"
   ]
  }
 ],
 "metadata": {
  "kernelspec": {
   "display_name": "Python 3",
   "language": "python",
   "name": "python3"
  },
  "language_info": {
   "codemirror_mode": {
    "name": "ipython",
    "version": 3
   },
   "file_extension": ".py",
   "mimetype": "text/x-python",
   "name": "python",
   "nbconvert_exporter": "python",
   "pygments_lexer": "ipython3",
   "version": "3.13.3"
  }
 },
 "nbformat": 4,
 "nbformat_minor": 5
}
